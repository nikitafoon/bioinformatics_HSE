{
 "cells": [
  {
   "cell_type": "code",
   "execution_count": null,
   "id": "49bc5eec-60ce-4ab1-9b33-a6b29968ec6e",
   "metadata": {
    "editable": true,
    "slideshow": {
     "slide_type": ""
    },
    "tags": []
   },
   "outputs": [
    {
     "name": "stdout",
     "output_type": "stream",
     "text": [
      "-4\n"
     ]
    }
   ],
   "source": [
    "S = input()\n",
    "T = input()\n",
    "\n",
    "n, m = len(S), len(T)\n",
    "\n",
    "v_matrix = [[0] * m for _ in range(n)]\n",
    "g_matrix = [[0] * (m + 1) for _ in range(n + 1)]  # Match/Mismatch\n",
    "f_matrix = [[0] * m for _ in range(n)]  # S word and gap\n",
    "e_matrix = [[0] * m for _ in range(n)]  # T word and gap\n",
    "\n",
    "def fill_g_matrix(d=-10, e=-0.5):\n",
    "    g_matrix[1][0] = d\n",
    "    for i in range(2, n + 1):\n",
    "        g_matrix[i][0] = d + (i - 1) * e\n",
    "\n",
    "    g_matrix[1][0] = d\n",
    "    for j in range(2, m + 1):\n",
    "        g_matrix[0][j] = d + (j - 1) * e\n",
    "\n",
    "    return g_matrix\n",
    "\n",
    "def fill_f_matrix(d=-10, e=-0.5):\n",
    "    f_matrix[1][0] = -20.5\n",
    "    for i in range(2, n):\n",
    "        f_matrix[i][0] = -20.5 + (i - 1) * e\n",
    "\n",
    "    f_matrix[0][1] = -20.5\n",
    "    for j in range(2, m):\n",
    "        f_matrix[0][j] = -20.5 + (j - 1) * e\n",
    "\n",
    "    f_matrix[0][0] = -20\n",
    "\n",
    "    return f_matrix\n",
    "\n",
    "def fill_e_matrix(d=-10, e=-0.5):\n",
    "    e_matrix[1][0] = -20.5\n",
    "    for i in range(2, n):\n",
    "        e_matrix[i][0] = -20.5 + (i - 1) * e\n",
    "\n",
    "    e_matrix[0][1] = -20.5\n",
    "    for j in range(2, m):\n",
    "        e_matrix[0][j] = -20.5 + (j - 1) * e\n",
    "\n",
    "    e_matrix[0][0] = -20\n",
    "\n",
    "    return e_matrix\n",
    "\n",
    "def needleman_wunsch():\n",
    "    match = 5\n",
    "    mismatch = -4\n",
    "    \n",
    "    for i in range(1, n + 1):\n",
    "        for j in range(1, m + 1):\n",
    "            if S[i - 1] == T[j - 1]:\n",
    "                diagonal_move = g_matrix[i - 1][j - 1] + match\n",
    "            else:\n",
    "                diagonal_move = g_matrix[i - 1][j - 1] + mismatch\n",
    "\n",
    "    return diagonal_move\n",
    "            \n",
    "def v_rec():\n",
    "    match = 5\n",
    "    mismatch = -4\n",
    "    d = -10\n",
    "    e = -0.5\n",
    "\n",
    "    for i in range(n):\n",
    "        for j in range(m):\n",
    "            if i == 0 and j == 0:\n",
    "                v_matrix[0][0] = 0\n",
    "                v_matrix[0][j] = d + j * e\n",
    "                v_matrix[i][0] = d + i * e\n",
    "                continue\n",
    "\n",
    "            if S[i] == T[j]:\n",
    "                diagonal_move = g_matrix[i - 1][j - 1] + match\n",
    "            else:\n",
    "                diagonal_move = g_matrix[i - 1][j - 1] + mismatch\n",
    "\n",
    "            move_down = max(f_matrix[i - 1][j] + e, v_matrix[i - 1][j] + d + e)\n",
    "            move_straight = max(e_matrix[i][j - 1] + e, v_matrix[i][j - 1] + d + e)\n",
    "            v_matrix[i][j] = max(diagonal_move, move_down, move_straight)\n",
    "\n",
    "    return v_matrix\n",
    "            \n",
    "\n",
    "fill_g_matrix()\n",
    "fill_f_matrix()\n",
    "fill_e_matrix()\n",
    "result = needleman_wunsch()\n",
    "print(result)"
   ]
  }
 ],
 "metadata": {
  "kernelspec": {
   "display_name": "Bf Study (bf_st)",
   "language": "python",
   "name": "bf_st"
  },
  "language_info": {
   "codemirror_mode": {
    "name": "ipython",
    "version": 3
   },
   "file_extension": ".py",
   "mimetype": "text/x-python",
   "name": "python",
   "nbconvert_exporter": "python",
   "pygments_lexer": "ipython3",
   "version": "3.13.1"
  }
 },
 "nbformat": 4,
 "nbformat_minor": 5
}
